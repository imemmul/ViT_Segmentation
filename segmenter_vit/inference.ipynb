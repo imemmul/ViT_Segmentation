{
 "cells": [
  {
   "cell_type": "code",
   "execution_count": 1,
   "metadata": {},
   "outputs": [
    {
     "name": "stderr",
     "output_type": "stream",
     "text": [
      "/home/emir/miniconda3/envs/mlptorch/lib/python3.10/site-packages/tqdm/auto.py:22: TqdmWarning: IProgress not found. Please update jupyter and ipywidgets. See https://ipywidgets.readthedocs.io/en/stable/user_install.html\n",
      "  from .autonotebook import tqdm as notebook_tqdm\n",
      "/home/emir/miniconda3/envs/mlptorch/lib/python3.10/site-packages/mmcv/__init__.py:20: UserWarning: On January 1, 2023, MMCV will release v2.0.0, in which it will remove components related to the training process and add a data transformation module. In addition, it will rename the package names mmcv to mmcv-lite and mmcv-full to mmcv. See https://github.com/open-mmlab/mmcv/blob/master/docs/en/compatibility.md for more details.\n",
      "  warnings.warn(\n"
     ]
    },
    {
     "name": "stdout",
     "output_type": "stream",
     "text": [
      "cuda\n"
     ]
    }
   ],
   "source": [
    "from mmseg.apis.inference import inference_segmentor\n",
    "from mmseg.apis import init_segmentor\n",
    "device = 'cuda'\n",
    "from mmcv import Config\n",
    "sys.path.insert(1, '../segViT/')\n",
    "from dataset_parser import EddyDatasetREGISTER\n",
    "from eddy_seg_vit import predict_random_img"
   ]
  },
  {
   "cell_type": "code",
   "execution_count": 2,
   "metadata": {},
   "outputs": [],
   "source": [
    "cp = '/home/emir/Desktop/dev/myResearch/src/ViT_Segmentation/segmenter_vit/output/iter_160000.pth'\n",
    "cfg_pth = \"/home/emir/Desktop/dev/myResearch/src/ViT_Segmentation/segmenter_vit/configs/segmenter/segmenter_vit-b_mask_8x1_512x512_160k_eddy_data.py\""
   ]
  },
  {
   "cell_type": "code",
   "execution_count": 3,
   "metadata": {},
   "outputs": [
    {
     "name": "stdout",
     "output_type": "stream",
     "text": [
      "load checkpoint from local path: /home/emir/Desktop/dev/myResearch/src/ViT_Segmentation/segmenter_vit/output/iter_160000.pth\n"
     ]
    }
   ],
   "source": [
    "cfg = Config.fromfile(cfg_pth)\n",
    "model = init_segmentor(config=cfg, checkpoint=cp, device=device)\n",
    "model.CLASSES = EddyDatasetREGISTER.CLASSES\n",
    "model.PALETTE = EddyDatasetREGISTER.PALETTE"
   ]
  },
  {
   "cell_type": "code",
   "execution_count": 4,
   "metadata": {},
   "outputs": [
    {
     "name": "stdout",
     "output_type": "stream",
     "text": [
      "Label Dir /home/emir/Desktop/dev/myResearch/dataset/dataset_eddy/train_label/4_53_51_201.png\n",
      "img dir /home/emir/Desktop/dev/myResearch/dataset/dataset_eddy/train_data_mat/4_53_51_201.mat\n"
     ]
    },
    {
     "name": "stderr",
     "output_type": "stream",
     "text": [
      "/home/emir/miniconda3/envs/mlptorch/lib/python3.10/site-packages/torch/nn/functional.py:1967: UserWarning: nn.functional.sigmoid is deprecated. Use torch.sigmoid instead.\n",
      "  warnings.warn(\"nn.functional.sigmoid is deprecated. Use torch.sigmoid instead.\")\n"
     ]
    },
    {
     "name": "stdout",
     "output_type": "stream",
     "text": [
      "seg logit shape torch.Size([256, 256])\n",
      "results shape (256, 256)\n"
     ]
    },
    {
     "data": {
      "image/png": "[encoded data removed]",
      "text/plain": [
       "<Figure size 1000x600 with 2 Axes>"
      ]
     },
     "metadata": {},
     "output_type": "display_data"
    }
   ],
   "source": [
    "data_dir = \"/home/emir/Desktop/dev/myResearch/dataset/dataset_eddy/train_data_mat/\"\n",
    "label_dir = \"/home/emir/Desktop/dev/myResearch/dataset/dataset_eddy/train_label/\"\n",
    "predict_random_img(model, data_dir, label_dir)"
   ]
  },
  {
   "cell_type": "code",
   "execution_count": null,
   "metadata": {},
   "outputs": [],
   "source": []
  }
 ],
 "metadata": {
  "kernelspec": {
   "display_name": "mlptorch",
   "language": "python",
   "name": "python3"
  },
  "language_info": {
   "codemirror_mode": {
    "name": "ipython",
    "version": 3
   },
   "file_extension": ".py",
   "mimetype": "text/x-python",
   "name": "python",
   "nbconvert_exporter": "python",
   "pygments_lexer": "ipython3",
   "version": "3.10.6"
  },
  "orig_nbformat": 4,
  "vscode": {
   "interpreter": {
    "hash": "6351ae7a8af7abb5b6e92ecd3cb8e4a903e7aa1ff53853f1ec32897af5c10b9a"
   }
  }
 },
 "nbformat": 4,
 "nbformat_minor": 2
}

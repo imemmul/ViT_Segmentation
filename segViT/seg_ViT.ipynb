{
 "cells": [
  {
   "cell_type": "markdown",
   "metadata": {},
   "source": [
    "### WHAT IS ATM ??"
   ]
  },
  {
   "cell_type": "code",
   "execution_count": 1,
   "metadata": {},
   "outputs": [
    {
     "name": "stderr",
     "output_type": "stream",
     "text": [
      "/home/emir/miniconda3/envs/mlptorch/lib/python3.10/site-packages/tqdm/auto.py:22: TqdmWarning: IProgress not found. Please update jupyter and ipywidgets. See https://ipywidgets.readthedocs.io/en/stable/user_install.html\n",
      "  from .autonotebook import tqdm as notebook_tqdm\n",
      "/home/emir/miniconda3/envs/mlptorch/lib/python3.10/site-packages/mmcv/__init__.py:20: UserWarning: On January 1, 2023, MMCV will release v2.0.0, in which it will remove components related to the training process and add a data transformation module. In addition, it will rename the package names mmcv to mmcv-lite and mmcv-full to mmcv. See https://github.com/open-mmlab/mmcv/blob/master/docs/en/compatibility.md for more details.\n",
      "  warnings.warn(\n"
     ]
    },
    {
     "data": {
      "text/plain": [
       "'cuda'"
      ]
     },
     "execution_count": 1,
     "metadata": {},
     "output_type": "execute_result"
    }
   ],
   "source": [
    "import torch\n",
    "from mmseg.apis import init_segmentor, inference_segmentor, show_result_pyplot\n",
    "from mmseg.core.evaluation import get_palette\n",
    "from mmcv import Config\n",
    "device = 'cuda' if torch.cuda.is_available() else 'cpu'\n",
    "device"
   ]
  },
  {
   "cell_type": "markdown",
   "metadata": {},
   "source": [
    "### Below 2 cell is for registering ATMHead and ATMloss to mmseg"
   ]
  },
  {
   "cell_type": "code",
   "execution_count": 2,
   "metadata": {},
   "outputs": [
    {
     "ename": "TypeError",
     "evalue": "ATMHead.__init__() missing 2 required positional arguments: 'img_size' and 'in_channels'",
     "output_type": "error",
     "traceback": [
      "\u001b[0;31m---------------------------------------------------------------------------\u001b[0m",
      "\u001b[0;31mTypeError\u001b[0m                                 Traceback (most recent call last)",
      "\u001b[1;32m/home/emir/Desktop/dev/myResearch/src/ViT_Segmentation/segViT/seg_ViT.ipynb Cell 4\u001b[0m in \u001b[0;36m<cell line: 3>\u001b[0;34m()\u001b[0m\n\u001b[1;32m      <a href='vscode-notebook-cell://ssh-remote%2Bmlgpu/home/emir/Desktop/dev/myResearch/src/ViT_Segmentation/segViT/seg_ViT.ipynb#W3sdnNjb2RlLXJlbW90ZQ%3D%3D?line=0'>1</a>\u001b[0m \u001b[39mfrom\u001b[39;00m \u001b[39mmmseg\u001b[39;00m\u001b[39m.\u001b[39;00m\u001b[39mmodels\u001b[39;00m\u001b[39m.\u001b[39;00m\u001b[39mdecode_heads\u001b[39;00m\u001b[39m.\u001b[39;00m\u001b[39matm_head\u001b[39;00m \u001b[39mimport\u001b[39;00m ATMHead\n\u001b[1;32m      <a href='vscode-notebook-cell://ssh-remote%2Bmlgpu/home/emir/Desktop/dev/myResearch/src/ViT_Segmentation/segViT/seg_ViT.ipynb#W3sdnNjb2RlLXJlbW90ZQ%3D%3D?line=1'>2</a>\u001b[0m \u001b[39mfrom\u001b[39;00m \u001b[39mmmseg\u001b[39;00m\u001b[39m.\u001b[39;00m\u001b[39mmodels\u001b[39;00m\u001b[39m.\u001b[39;00m\u001b[39mlosses\u001b[39;00m\u001b[39m.\u001b[39;00m\u001b[39matm_loss\u001b[39;00m \u001b[39mimport\u001b[39;00m ATMLoss\n\u001b[0;32m----> <a href='vscode-notebook-cell://ssh-remote%2Bmlgpu/home/emir/Desktop/dev/myResearch/src/ViT_Segmentation/segViT/seg_ViT.ipynb#W3sdnNjb2RlLXJlbW90ZQ%3D%3D?line=2'>3</a>\u001b[0m ATMHead()\n",
      "\u001b[0;31mTypeError\u001b[0m: ATMHead.__init__() missing 2 required positional arguments: 'img_size' and 'in_channels'"
     ]
    }
   ],
   "source": [
    "from mmseg.models.decode_heads.atm_head import ATMHead\n",
    "from mmseg.models.losses.atm_loss import ATMLoss\n",
    "ATMHead() # initiliaze and add register to mmseg module"
   ]
  },
  {
   "cell_type": "code",
   "execution_count": 3,
   "metadata": {},
   "outputs": [
    {
     "ename": "TypeError",
     "evalue": "ATMLoss.__init__() missing 2 required positional arguments: 'num_classes' and 'dec_layers'",
     "output_type": "error",
     "traceback": [
      "\u001b[0;31m---------------------------------------------------------------------------\u001b[0m",
      "\u001b[0;31mTypeError\u001b[0m                                 Traceback (most recent call last)",
      "\u001b[1;32m/home/emir/Desktop/dev/myResearch/src/ViT_Segmentation/segViT/seg_ViT.ipynb Cell 5\u001b[0m in \u001b[0;36m<cell line: 1>\u001b[0;34m()\u001b[0m\n\u001b[0;32m----> <a href='vscode-notebook-cell://ssh-remote%2Bmlgpu/home/emir/Desktop/dev/myResearch/src/ViT_Segmentation/segViT/seg_ViT.ipynb#W4sdnNjb2RlLXJlbW90ZQ%3D%3D?line=0'>1</a>\u001b[0m ATMLoss()\n",
      "\u001b[0;31mTypeError\u001b[0m: ATMLoss.__init__() missing 2 required positional arguments: 'num_classes' and 'dec_layers'"
     ]
    }
   ],
   "source": [
    "ATMLoss() # initiliaze and add register to mmseg module"
   ]
  },
  {
   "cell_type": "code",
   "execution_count": 4,
   "metadata": {},
   "outputs": [],
   "source": [
    "seg_Vit_L_cfg = \"/home/emir/Desktop/dev/myResearch/SegVit/configs/segvit/segvit_vit-l_jax_640x640_160k_ade20k.py\"\n",
    "cp_seg_vit_b = \"/home/emir/Desktop/dev/myResearch/seg_model/cp_seg_vit_L/download\""
   ]
  },
  {
   "cell_type": "code",
   "execution_count": 5,
   "metadata": {},
   "outputs": [],
   "source": [
    "model = init_segmentor(config=seg_Vit_L_cfg, device=device)\n",
    "main_cfg = Config.fromfile(seg_Vit_L_cfg)"
   ]
  },
  {
   "cell_type": "code",
   "execution_count": 6,
   "metadata": {},
   "outputs": [],
   "source": [
    "from mmseg.apis import train_segmentor"
   ]
  },
  {
   "cell_type": "code",
   "execution_count": 7,
   "metadata": {},
   "outputs": [],
   "source": [
    "data_dir = \"/home/emir/Desktop/dev/dataset_eddy/data4test/data/\"\n",
    "label_dir = \"/home/emir/Desktop/dev/dataset_eddy/data4test/label/\""
   ]
  },
  {
   "cell_type": "code",
   "execution_count": 8,
   "metadata": {},
   "outputs": [],
   "source": [
    "from dataset_parser import EddyDataset, create_dataloaders"
   ]
  },
  {
   "cell_type": "code",
   "execution_count": 9,
   "metadata": {},
   "outputs": [],
   "source": [
    "train_data = EddyDataset(input_image_dir=data_dir, mask_image_dir=label_dir, split=0.85, train_bool=True)\n",
    "valid_data = EddyDataset(input_image_dir=data_dir, mask_image_dir=label_dir, split=0.85, train_bool=False)"
   ]
  },
  {
   "cell_type": "code",
   "execution_count": 11,
   "metadata": {},
   "outputs": [],
   "source": [
    "train_dataloader, valid_dataloader, class_names = create_dataloaders(is_data_exist=True, train_data=train_data, test_data=valid_data, batch_size=32)"
   ]
  },
  {
   "cell_type": "code",
   "execution_count": null,
   "metadata": {},
   "outputs": [],
   "source": []
  }
 ],
 "metadata": {
  "kernelspec": {
   "display_name": "Python 3.10.6 ('mlptorch')",
   "language": "python",
   "name": "python3"
  },
  "language_info": {
   "codemirror_mode": {
    "name": "ipython",
    "version": 3
   },
   "file_extension": ".py",
   "mimetype": "text/x-python",
   "name": "python",
   "nbconvert_exporter": "python",
   "pygments_lexer": "ipython3",
   "version": "3.10.6"
  },
  "orig_nbformat": 4,
  "vscode": {
   "interpreter": {
    "hash": "6351ae7a8af7abb5b6e92ecd3cb8e4a903e7aa1ff53853f1ec32897af5c10b9a"
   }
  }
 },
 "nbformat": 4,
 "nbformat_minor": 2
}

{
 "cells": [
  {
   "cell_type": "markdown",
   "metadata": {},
   "source": [
    "### WHAT IS ATM ??"
   ]
  },
  {
   "cell_type": "code",
   "execution_count": 11,
   "metadata": {},
   "outputs": [
    {
     "data": {
      "text/plain": [
       "'cuda'"
      ]
     },
     "execution_count": 11,
     "metadata": {},
     "output_type": "execute_result"
    }
   ],
   "source": [
    "import torch\n",
    "from mmseg.apis import init_segmentor, inference_segmentor, show_result_pyplot\n",
    "from mmseg.core.evaluation import get_palette\n",
    "from mmcv import Config\n",
    "import scipy.io as sio\n",
    "import os\n",
    "import matplotlib.pyplot as plt\n",
    "import matplotlib.image as pli\n",
    "device = 'cuda' if torch.cuda.is_available() else 'cpu'\n",
    "import numpy as np\n",
    "device"
   ]
  },
  {
   "cell_type": "code",
   "execution_count": 7,
   "metadata": {},
   "outputs": [],
   "source": [
    "from eddy_seg_vit import load_model, predict_random_img\n",
    "from dataset_parser import EddyDatasetREGISTER"
   ]
  },
  {
   "cell_type": "code",
   "execution_count": 8,
   "metadata": {},
   "outputs": [
    {
     "name": "stdout",
     "output_type": "stream",
     "text": [
      "load checkpoint from local path: /home/emir/Desktop/dev/myResearch/src/ViT_Segmentation/segViT/output/latest.pth\n"
     ]
    }
   ],
   "source": [
    "classes = EddyDatasetREGISTER.CLASSES\n",
    "palette = EddyDatasetREGISTER.PALETTE\n",
    "seg_Vit_L_cfg = \"./configs/SegViT_L_EddyData.py\"\n",
    "cp = '/home/emir/Desktop/dev/myResearch/src/ViT_Segmentation/segViT/output/latest.pth'\n",
    "model = load_model(config=seg_Vit_L_cfg, checkpoint=cp, device=device, CLASSES=classes, PALETTE=palette)"
   ]
  },
  {
   "cell_type": "code",
   "execution_count": 9,
   "metadata": {},
   "outputs": [],
   "source": [
    "test_dir = \"/home/emir/Desktop/dev/myResearch/dataset/dataset_eddy/valid_data_mat/\"\n",
    "test_label = \"/home/emir/Desktop/dev/myResearch/dataset/dataset_eddy/valid_label/\""
   ]
  },
  {
   "cell_type": "code",
   "execution_count": 10,
   "metadata": {},
   "outputs": [
    {
     "name": "stdout",
     "output_type": "stream",
     "text": [
      "Label Dir /home/emir/Desktop/dev/myResearch/dataset/dataset_eddy/valid_label/7_35_151_151.png\n",
      "img dir /home/emir/Desktop/dev/myResearch/dataset/dataset_eddy/valid_data_mat/7_35_151_151.mat\n",
      "pad_shape is not found in results\n",
      "scale_factor is not found in results\n",
      "img_norm_cfg is not found in results\n",
      "pad_shape is not found in results\n",
      "scale_factor is not found in results\n",
      "img_norm_cfg is not found in results\n",
      "pad_shape is not found in results\n",
      "scale_factor is not found in results\n",
      "img_norm_cfg is not found in results\n",
      "pad_shape is not found in results\n",
      "scale_factor is not found in results\n",
      "img_norm_cfg is not found in results\n",
      "pad_shape is not found in results\n",
      "scale_factor is not found in results\n",
      "img_norm_cfg is not found in results\n",
      "pad_shape is not found in results\n",
      "scale_factor is not found in results\n",
      "img_norm_cfg is not found in results\n"
     ]
    },
    {
     "data": {
      "image/png": "[encoded data removed]",
      "text/plain": [
       "<Figure size 1000x600 with 2 Axes>"
      ]
     },
     "metadata": {},
     "output_type": "display_data"
    }
   ],
   "source": [
    "predict_random_img(model=model, data_dir=test_dir, label_dir=test_label)"
   ]
  },
  {
   "cell_type": "code",
   "execution_count": null,
   "metadata": {},
   "outputs": [],
   "source": []
  }
 ],
 "metadata": {
  "kernelspec": {
   "display_name": "mlptorch",
   "language": "python",
   "name": "python3"
  },
  "language_info": {
   "codemirror_mode": {
    "name": "ipython",
    "version": 3
   },
   "file_extension": ".py",
   "mimetype": "text/x-python",
   "name": "python",
   "nbconvert_exporter": "python",
   "pygments_lexer": "ipython3",
   "version": "3.10.6"
  },
  "orig_nbformat": 4,
  "vscode": {
   "interpreter": {
    "hash": "6351ae7a8af7abb5b6e92ecd3cb8e4a903e7aa1ff53853f1ec32897af5c10b9a"
   }
  }
 },
 "nbformat": 4,
 "nbformat_minor": 2
}
